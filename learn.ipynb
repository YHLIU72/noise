{
 "cells": [
  {
   "cell_type": "code",
   "execution_count": 1,
   "id": "d55f5b01-6d3b-4cbf-8a50-23e19495c37b",
   "metadata": {},
   "outputs": [],
   "source": [
    "import torch\n",
    "x=torch.tensor(3.5)"
   ]
  },
  {
   "cell_type": "markdown",
   "id": "583c1919-8662-4593-b43c-54f892445788",
   "metadata": {},
   "source": [
    "实例化一个标量"
   ]
  },
  {
   "cell_type": "code",
   "execution_count": 2,
   "id": "a6d66d84-6e16-45fa-8c9c-ae7d366e7fec",
   "metadata": {},
   "outputs": [
    {
     "data": {
      "text/plain": [
       "torch.Size([5])"
      ]
     },
     "execution_count": 2,
     "metadata": {},
     "output_type": "execute_result"
    }
   ],
   "source": [
    "y=torch.arange(5)\n",
    "y.shape"
   ]
  },
  {
   "cell_type": "code",
   "execution_count": 3,
   "id": "23828be4-cbd2-441a-a234-d8961db9274c",
   "metadata": {},
   "outputs": [
    {
     "data": {
      "text/plain": [
       "5"
      ]
     },
     "execution_count": 3,
     "metadata": {},
     "output_type": "execute_result"
    }
   ],
   "source": [
    "y.numel()"
   ]
  },
  {
   "cell_type": "code",
   "execution_count": 7,
   "id": "53053b12-9856-474e-8219-c5bdf4eab878",
   "metadata": {},
   "outputs": [
    {
     "data": {
      "text/plain": [
       "tensor(-1.1139, requires_grad=True)"
      ]
     },
     "execution_count": 7,
     "metadata": {},
     "output_type": "execute_result"
    }
   ],
   "source": [
    "a=torch.randn(size=(),requires_grad=True)"
   ]
  }
 ],
 "metadata": {
  "kernelspec": {
   "display_name": "My Python Env",
   "language": "python",
   "name": "myenv"
  },
  "language_info": {
   "codemirror_mode": {
    "name": "ipython",
    "version": 3
   },
   "file_extension": ".py",
   "mimetype": "text/x-python",
   "name": "python",
   "nbconvert_exporter": "python",
   "pygments_lexer": "ipython3",
   "version": "3.11.11"
  }
 },
 "nbformat": 4,
 "nbformat_minor": 5
}

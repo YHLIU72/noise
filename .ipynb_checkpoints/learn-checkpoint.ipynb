{
 "cells": [
  {
   "cell_type": "markdown",
   "id": "3fb54e4a-81b4-46b8-84aa-9cafccf3cd22",
   "metadata": {},
   "source": [
    "import torch\n",
    "x=torch.tensor(3.5)"
   ]
  },
  {
   "cell_type": "markdown",
   "id": "583c1919-8662-4593-b43c-54f892445788",
   "metadata": {},
   "source": [
    "实例化一个标量"
   ]
  },
  {
   "cell_type": "code",
   "execution_count": null,
   "id": "a6d66d84-6e16-45fa-8c9c-ae7d366e7fec",
   "metadata": {},
   "outputs": [],
   "source": []
  }
 ],
 "metadata": {
  "kernelspec": {
   "display_name": "My Python Env",
   "language": "python",
   "name": "myenv"
  },
  "language_info": {
   "codemirror_mode": {
    "name": "ipython",
    "version": 3
   },
   "file_extension": ".py",
   "mimetype": "text/x-python",
   "name": "python",
   "nbconvert_exporter": "python",
   "pygments_lexer": "ipython3",
   "version": "3.11.11"
  }
 },
 "nbformat": 4,
 "nbformat_minor": 5
}
